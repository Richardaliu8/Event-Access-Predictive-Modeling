{
 "cells": [
  {
   "cell_type": "markdown",
   "id": "14e04af8",
   "metadata": {},
   "source": [
    "## BAX 452 001-002 WQ 2024 Machine Learning\n",
    "## Assignment 5\n",
    "## Group 5\n",
    "## Richard Liu, Hitesh Kunchakuri, Shivank Chandra"
   ]
  },
  {
   "cell_type": "code",
   "execution_count": 1,
   "id": "514d7ff9",
   "metadata": {},
   "outputs": [],
   "source": [
    "import os\n",
    "import pandas as pd\n",
    "import numpy as np\n",
    "import matplotlib.pyplot as plt\n",
    "import seaborn as sns\n",
    "from sklearn.model_selection import train_test_split\n",
    "import statsmodels.api as sm\n",
    "from sklearn.linear_model import LinearRegression\n",
    "from sklearn.metrics import mean_squared_error, r2_score\n",
    "from sklearn.preprocessing import StandardScaler, LabelEncoder\n",
    "from sklearn.linear_model import Lasso\n",
    "from sklearn.linear_model import LassoCV\n",
    "from sklearn.model_selection import cross_val_score\n",
    "from sklearn.decomposition import PCA\n"
   ]
  },
  {
   "cell_type": "code",
   "execution_count": 2,
   "id": "9b409520",
   "metadata": {},
   "outputs": [
    {
     "name": "stdout",
     "output_type": "stream",
     "text": [
      "Current working directory: /Users/richardaliu/Downloads/Winter/BAX 452/HW 5\n"
     ]
    }
   ],
   "source": [
    "directory_path = '/Users/richardaliu/Downloads/Winter/BAX 452/HW 5'\n",
    "os.chdir(directory_path)\n",
    "current_directory = os.getcwd()\n",
    "print(\"Current working directory:\", current_directory)"
   ]
  },
  {
   "cell_type": "markdown",
   "id": "6863430e",
   "metadata": {},
   "source": [
    "1.Data Exploration and Visualization (20)\n",
    "Explore Event_entry(in Files) dataset.\n",
    "Provide visualizations such as histograms, scatter plots, or box plots to understand the distribution of different features.\n",
    "Include any other plots you find interesting and provide brief interpretations.\n"
   ]
  },
  {
   "cell_type": "code",
   "execution_count": 3,
   "id": "071be365",
   "metadata": {},
   "outputs": [],
   "source": [
    "event_entry = 'Event_entry.csv'\n",
    "df = pd.read_csv(event_entry)"
   ]
  },
  {
   "cell_type": "code",
   "execution_count": 4,
   "id": "933eff4b",
   "metadata": {},
   "outputs": [
    {
     "name": "stdout",
     "output_type": "stream",
     "text": [
      "<class 'pandas.core.frame.DataFrame'>\n",
      "RangeIndex: 869 entries, 0 to 868\n",
      "Data columns (total 9 columns):\n",
      " #   Column         Non-Null Count  Dtype  \n",
      "---  ------         --------------  -----  \n",
      " 0   Entry          869 non-null    int64  \n",
      " 1   TicketClass    869 non-null    int64  \n",
      " 2   Sex            869 non-null    object \n",
      " 3   Age            694 non-null    float64\n",
      " 4   Price          869 non-null    int64  \n",
      " 5   Order          869 non-null    int64  \n",
      " 6   Name           869 non-null    object \n",
      " 7   Ticket Number  869 non-null    int64  \n",
      " 8   Bank Balance   869 non-null    int64  \n",
      "dtypes: float64(1), int64(6), object(2)\n",
      "memory usage: 61.2+ KB\n"
     ]
    }
   ],
   "source": [
    "df.info()"
   ]
  },
  {
   "cell_type": "markdown",
   "id": "75bca5e5",
   "metadata": {},
   "source": [
    "Database Information:\n",
    "\n",
    "Order: Order of buying the tickets\n",
    "\n",
    "Entry: 0 is denied, 1 is approved\n",
    "\n",
    "Ticket class: 1.2.3 different types of tickets\n",
    "\n",
    "Sex: Gender\n",
    "\n",
    "Age: Age\n",
    "\n",
    "Price: Price of Ticket\n",
    "\n",
    "Name: Name of buyer\n",
    "\n",
    "Ticket: Ticket number\n",
    "\n",
    "Bank Balance: Bank balance of ticket buyer"
   ]
  },
  {
   "cell_type": "code",
   "execution_count": 5,
   "id": "d0763172",
   "metadata": {},
   "outputs": [
    {
     "name": "stdout",
     "output_type": "stream",
     "text": [
      "Shape of dataframe\n",
      " Rows: 869\t Columns: 9\n"
     ]
    }
   ],
   "source": [
    "print('Shape of dataframe\\n',f'Rows: {df.shape[0]}\\t',f'Columns: {df.shape[1]}')"
   ]
  },
  {
   "cell_type": "code",
   "execution_count": 6,
   "id": "a00fcf4a",
   "metadata": {},
   "outputs": [
    {
     "data": {
      "text/html": [
       "<div>\n",
       "<style scoped>\n",
       "    .dataframe tbody tr th:only-of-type {\n",
       "        vertical-align: middle;\n",
       "    }\n",
       "\n",
       "    .dataframe tbody tr th {\n",
       "        vertical-align: top;\n",
       "    }\n",
       "\n",
       "    .dataframe thead th {\n",
       "        text-align: right;\n",
       "    }\n",
       "</style>\n",
       "<table border=\"1\" class=\"dataframe\">\n",
       "  <thead>\n",
       "    <tr style=\"text-align: right;\">\n",
       "      <th></th>\n",
       "      <th>Entry</th>\n",
       "      <th>TicketClass</th>\n",
       "      <th>Sex</th>\n",
       "      <th>Age</th>\n",
       "      <th>Price</th>\n",
       "      <th>Order</th>\n",
       "      <th>Name</th>\n",
       "      <th>Ticket Number</th>\n",
       "      <th>Bank Balance</th>\n",
       "    </tr>\n",
       "  </thead>\n",
       "  <tbody>\n",
       "    <tr>\n",
       "      <th>864</th>\n",
       "      <td>0</td>\n",
       "      <td>2</td>\n",
       "      <td>male</td>\n",
       "      <td>24.0</td>\n",
       "      <td>13</td>\n",
       "      <td>865</td>\n",
       "      <td>Gill, Mr. John William</td>\n",
       "      <td>305015</td>\n",
       "      <td>87301</td>\n",
       "    </tr>\n",
       "    <tr>\n",
       "      <th>865</th>\n",
       "      <td>1</td>\n",
       "      <td>2</td>\n",
       "      <td>female</td>\n",
       "      <td>42.0</td>\n",
       "      <td>13</td>\n",
       "      <td>866</td>\n",
       "      <td>Bystrom, Mrs. (Karolina)</td>\n",
       "      <td>459167</td>\n",
       "      <td>48146</td>\n",
       "    </tr>\n",
       "    <tr>\n",
       "      <th>866</th>\n",
       "      <td>1</td>\n",
       "      <td>2</td>\n",
       "      <td>female</td>\n",
       "      <td>27.0</td>\n",
       "      <td>14</td>\n",
       "      <td>867</td>\n",
       "      <td>Duran y More, Miss. Asuncion</td>\n",
       "      <td>508948</td>\n",
       "      <td>60741</td>\n",
       "    </tr>\n",
       "    <tr>\n",
       "      <th>867</th>\n",
       "      <td>0</td>\n",
       "      <td>1</td>\n",
       "      <td>male</td>\n",
       "      <td>31.0</td>\n",
       "      <td>50</td>\n",
       "      <td>868</td>\n",
       "      <td>Roebling, Mr. Washington Augustus II</td>\n",
       "      <td>942774</td>\n",
       "      <td>19589</td>\n",
       "    </tr>\n",
       "    <tr>\n",
       "      <th>868</th>\n",
       "      <td>0</td>\n",
       "      <td>3</td>\n",
       "      <td>male</td>\n",
       "      <td>NaN</td>\n",
       "      <td>10</td>\n",
       "      <td>869</td>\n",
       "      <td>van Melkebeke, Mr. Philemon</td>\n",
       "      <td>498086</td>\n",
       "      <td>79973</td>\n",
       "    </tr>\n",
       "  </tbody>\n",
       "</table>\n",
       "</div>"
      ],
      "text/plain": [
       "     Entry  TicketClass     Sex   Age  Price  Order  \\\n",
       "864      0            2    male  24.0     13    865   \n",
       "865      1            2  female  42.0     13    866   \n",
       "866      1            2  female  27.0     14    867   \n",
       "867      0            1    male  31.0     50    868   \n",
       "868      0            3    male   NaN     10    869   \n",
       "\n",
       "                                     Name  Ticket Number  Bank Balance  \n",
       "864                Gill, Mr. John William         305015         87301  \n",
       "865              Bystrom, Mrs. (Karolina)         459167         48146  \n",
       "866          Duran y More, Miss. Asuncion         508948         60741  \n",
       "867  Roebling, Mr. Washington Augustus II         942774         19589  \n",
       "868           van Melkebeke, Mr. Philemon         498086         79973  "
      ]
     },
     "execution_count": 6,
     "metadata": {},
     "output_type": "execute_result"
    }
   ],
   "source": [
    "df.head()\n",
    "df.tail()"
   ]
  },
  {
   "cell_type": "code",
   "execution_count": 7,
   "id": "5cf421c6",
   "metadata": {},
   "outputs": [
    {
     "data": {
      "text/html": [
       "<div>\n",
       "<style scoped>\n",
       "    .dataframe tbody tr th:only-of-type {\n",
       "        vertical-align: middle;\n",
       "    }\n",
       "\n",
       "    .dataframe tbody tr th {\n",
       "        vertical-align: top;\n",
       "    }\n",
       "\n",
       "    .dataframe thead th {\n",
       "        text-align: right;\n",
       "    }\n",
       "</style>\n",
       "<table border=\"1\" class=\"dataframe\">\n",
       "  <thead>\n",
       "    <tr style=\"text-align: right;\">\n",
       "      <th></th>\n",
       "      <th>Entry</th>\n",
       "      <th>TicketClass</th>\n",
       "      <th>Age</th>\n",
       "      <th>Price</th>\n",
       "      <th>Order</th>\n",
       "      <th>Ticket Number</th>\n",
       "      <th>Bank Balance</th>\n",
       "    </tr>\n",
       "  </thead>\n",
       "  <tbody>\n",
       "    <tr>\n",
       "      <th>count</th>\n",
       "      <td>869.000000</td>\n",
       "      <td>869.000000</td>\n",
       "      <td>694.000000</td>\n",
       "      <td>869.000000</td>\n",
       "      <td>869.000000</td>\n",
       "      <td>869.000000</td>\n",
       "      <td>869.000000</td>\n",
       "    </tr>\n",
       "    <tr>\n",
       "      <th>mean</th>\n",
       "      <td>0.384350</td>\n",
       "      <td>2.307250</td>\n",
       "      <td>29.732233</td>\n",
       "      <td>32.594937</td>\n",
       "      <td>435.000000</td>\n",
       "      <td>479171.174914</td>\n",
       "      <td>50269.125432</td>\n",
       "    </tr>\n",
       "    <tr>\n",
       "      <th>std</th>\n",
       "      <td>0.486721</td>\n",
       "      <td>0.836222</td>\n",
       "      <td>14.599438</td>\n",
       "      <td>50.186076</td>\n",
       "      <td>251.002988</td>\n",
       "      <td>286307.965548</td>\n",
       "      <td>28158.833520</td>\n",
       "    </tr>\n",
       "    <tr>\n",
       "      <th>min</th>\n",
       "      <td>0.000000</td>\n",
       "      <td>1.000000</td>\n",
       "      <td>0.420000</td>\n",
       "      <td>0.000000</td>\n",
       "      <td>1.000000</td>\n",
       "      <td>1222.000000</td>\n",
       "      <td>108.000000</td>\n",
       "    </tr>\n",
       "    <tr>\n",
       "      <th>25%</th>\n",
       "      <td>0.000000</td>\n",
       "      <td>2.000000</td>\n",
       "      <td>20.125000</td>\n",
       "      <td>8.000000</td>\n",
       "      <td>218.000000</td>\n",
       "      <td>228933.000000</td>\n",
       "      <td>27438.000000</td>\n",
       "    </tr>\n",
       "    <tr>\n",
       "      <th>50%</th>\n",
       "      <td>0.000000</td>\n",
       "      <td>3.000000</td>\n",
       "      <td>28.000000</td>\n",
       "      <td>14.000000</td>\n",
       "      <td>435.000000</td>\n",
       "      <td>453195.000000</td>\n",
       "      <td>50588.000000</td>\n",
       "    </tr>\n",
       "    <tr>\n",
       "      <th>75%</th>\n",
       "      <td>1.000000</td>\n",
       "      <td>3.000000</td>\n",
       "      <td>38.000000</td>\n",
       "      <td>31.000000</td>\n",
       "      <td>652.000000</td>\n",
       "      <td>722522.000000</td>\n",
       "      <td>73549.000000</td>\n",
       "    </tr>\n",
       "    <tr>\n",
       "      <th>max</th>\n",
       "      <td>1.000000</td>\n",
       "      <td>3.000000</td>\n",
       "      <td>80.000000</td>\n",
       "      <td>512.000000</td>\n",
       "      <td>869.000000</td>\n",
       "      <td>999921.000000</td>\n",
       "      <td>99548.000000</td>\n",
       "    </tr>\n",
       "  </tbody>\n",
       "</table>\n",
       "</div>"
      ],
      "text/plain": [
       "            Entry  TicketClass         Age       Price       Order  \\\n",
       "count  869.000000   869.000000  694.000000  869.000000  869.000000   \n",
       "mean     0.384350     2.307250   29.732233   32.594937  435.000000   \n",
       "std      0.486721     0.836222   14.599438   50.186076  251.002988   \n",
       "min      0.000000     1.000000    0.420000    0.000000    1.000000   \n",
       "25%      0.000000     2.000000   20.125000    8.000000  218.000000   \n",
       "50%      0.000000     3.000000   28.000000   14.000000  435.000000   \n",
       "75%      1.000000     3.000000   38.000000   31.000000  652.000000   \n",
       "max      1.000000     3.000000   80.000000  512.000000  869.000000   \n",
       "\n",
       "       Ticket Number  Bank Balance  \n",
       "count     869.000000    869.000000  \n",
       "mean   479171.174914  50269.125432  \n",
       "std    286307.965548  28158.833520  \n",
       "min      1222.000000    108.000000  \n",
       "25%    228933.000000  27438.000000  \n",
       "50%    453195.000000  50588.000000  \n",
       "75%    722522.000000  73549.000000  \n",
       "max    999921.000000  99548.000000  "
      ]
     },
     "execution_count": 7,
     "metadata": {},
     "output_type": "execute_result"
    }
   ],
   "source": [
    "df.describe()"
   ]
  },
  {
   "cell_type": "code",
   "execution_count": 8,
   "id": "fcf6e655",
   "metadata": {},
   "outputs": [
    {
     "data": {
      "image/png": "[encoded data removed]",
      "text/plain": [
       "<Figure size 1000x600 with 1 Axes>"
      ]
     },
     "metadata": {},
     "output_type": "display_data"
    }
   ],
   "source": [
    "# 1. Histogram for Price\n",
    "plt.figure(figsize=(10, 6))\n",
    "sns.histplot(df['Price'], bins=20, kde=True)\n",
    "plt.title('Distribution of Prices')\n",
    "plt.xlabel('Price')\n",
    "plt.ylabel('Frequency')\n",
    "plt.show()"
   ]
  },
  {
   "cell_type": "code",
   "execution_count": 9,
   "id": "d7115ba6",
   "metadata": {},
   "outputs": [
    {
     "data": {
      "image/png": "[encoded data removed]",
      "text/plain": [
       "<Figure size 1000x600 with 1 Axes>"
      ]
     },
     "metadata": {},
     "output_type": "display_data"
    }
   ],
   "source": [
    "# 2. Boxplot for Ticket Class\n",
    "plt.figure(figsize=(10, 6))\n",
    "sns.boxplot(x='TicketClass', y='Price', data=df)\n",
    "plt.title('Price Distribution based on Ticket Class')\n",
    "plt.xlabel('Ticket Class')\n",
    "plt.ylabel('Price')\n",
    "plt.show()"
   ]
  },
  {
   "cell_type": "code",
   "execution_count": 10,
   "id": "16896d30",
   "metadata": {
    "scrolled": false
   },
   "outputs": [
    {
     "data": {
      "image/png": "[encoded data removed]",
      "text/plain": [
       "<Figure size 1000x600 with 1 Axes>"
      ]
     },
     "metadata": {},
     "output_type": "display_data"
    }
   ],
   "source": [
    "# 3. Scatter plot for Distance vs Price\n",
    "plt.figure(figsize=(10, 6))\n",
    "sns.scatterplot(x='Age', y='Price', data=df)\n",
    "plt.title('Scatter Plot: Age vs Price')\n",
    "plt.xlabel('Age')\n",
    "plt.ylabel('Price')\n",
    "plt.show()"
   ]
  },
  {
   "cell_type": "markdown",
   "id": "f428f0a2",
   "metadata": {},
   "source": [
    "Comment: \n",
    "\n",
    "We started by taking an overview of the entire dataset by pulling up its info and description. The histogram reveals that ticket prices are primarily concentrated around the $0 to $50 range. The boxplot indicates that first-class tickets cover the widest price range, suggesting they are typically more expensive than the other classes. From the scatter plot, we can observe that there's a good mix of ages across different ticket prices. However, it also appears that middle-aged individuals tend to spend more on tickets."
   ]
  },
  {
   "cell_type": "markdown",
   "id": "3487c1f3",
   "metadata": {},
   "source": [
    "2.PCA Analysis (25)\n",
    "Split the dataset into training and testing sets and encode the variables if needed.\n",
    "Develop a Logistic regression model to predict If the entry to the event will be granted on not. (Use at least 6 dimensions)\n",
    "Use PCA to reduce dimensions, try with 2, 4, and 6 dimensions\n",
    "Use the above 2,4,6 dimensions to train and test the Logistic Regression Model and evaluate the impact it has on the performance.\n",
    "Compare the OOS performance with that of a LASSO Logistic Regression Model.\n",
    "(Tip: Many times, PCA reduces accuracy but the computation is much lighter and that is the tradeoff you can consider while building models in real life)"
   ]
  },
  {
   "cell_type": "code",
   "execution_count": 11,
   "id": "572d8440",
   "metadata": {},
   "outputs": [
    {
     "data": {
      "text/plain": [
       "Entry              0\n",
       "TicketClass        0\n",
       "Sex                0\n",
       "Age              175\n",
       "Price              0\n",
       "Order              0\n",
       "Name               0\n",
       "Ticket Number      0\n",
       "Bank Balance       0\n",
       "dtype: int64"
      ]
     },
     "execution_count": 11,
     "metadata": {},
     "output_type": "execute_result"
    }
   ],
   "source": [
    "df.isnull().sum()"
   ]
  },
  {
   "cell_type": "code",
   "execution_count": 12,
   "id": "e082f615",
   "metadata": {},
   "outputs": [],
   "source": [
    "#drop unnecessary column\n",
    "df.drop(['Name'], axis=1, inplace=True)"
   ]
  },
  {
   "cell_type": "code",
   "execution_count": 13,
   "id": "acf34252",
   "metadata": {},
   "outputs": [],
   "source": [
    "# converting all the categorical variables into dummy variables\n",
    "\n",
    "df = pd.get_dummies(df,drop_first=True)"
   ]
  },
  {
   "cell_type": "code",
   "execution_count": 14,
   "id": "21ff7eab",
   "metadata": {},
   "outputs": [],
   "source": [
    "# Fill missing values in 'Age' column with the mean\n",
    "df['Age'].fillna(df['Age'].mean(), inplace=True)"
   ]
  },
  {
   "cell_type": "code",
   "execution_count": 15,
   "id": "ad29b812",
   "metadata": {},
   "outputs": [
    {
     "data": {
      "text/html": [
       "<div>\n",
       "<style scoped>\n",
       "    .dataframe tbody tr th:only-of-type {\n",
       "        vertical-align: middle;\n",
       "    }\n",
       "\n",
       "    .dataframe tbody tr th {\n",
       "        vertical-align: top;\n",
       "    }\n",
       "\n",
       "    .dataframe thead th {\n",
       "        text-align: right;\n",
       "    }\n",
       "</style>\n",
       "<table border=\"1\" class=\"dataframe\">\n",
       "  <thead>\n",
       "    <tr style=\"text-align: right;\">\n",
       "      <th></th>\n",
       "      <th>Entry</th>\n",
       "      <th>TicketClass</th>\n",
       "      <th>Age</th>\n",
       "      <th>Price</th>\n",
       "      <th>Order</th>\n",
       "      <th>Ticket Number</th>\n",
       "      <th>Bank Balance</th>\n",
       "      <th>Sex_male</th>\n",
       "    </tr>\n",
       "  </thead>\n",
       "  <tbody>\n",
       "    <tr>\n",
       "      <th>864</th>\n",
       "      <td>0</td>\n",
       "      <td>2</td>\n",
       "      <td>24.000000</td>\n",
       "      <td>13</td>\n",
       "      <td>865</td>\n",
       "      <td>305015</td>\n",
       "      <td>87301</td>\n",
       "      <td>True</td>\n",
       "    </tr>\n",
       "    <tr>\n",
       "      <th>865</th>\n",
       "      <td>1</td>\n",
       "      <td>2</td>\n",
       "      <td>42.000000</td>\n",
       "      <td>13</td>\n",
       "      <td>866</td>\n",
       "      <td>459167</td>\n",
       "      <td>48146</td>\n",
       "      <td>False</td>\n",
       "    </tr>\n",
       "    <tr>\n",
       "      <th>866</th>\n",
       "      <td>1</td>\n",
       "      <td>2</td>\n",
       "      <td>27.000000</td>\n",
       "      <td>14</td>\n",
       "      <td>867</td>\n",
       "      <td>508948</td>\n",
       "      <td>60741</td>\n",
       "      <td>False</td>\n",
       "    </tr>\n",
       "    <tr>\n",
       "      <th>867</th>\n",
       "      <td>0</td>\n",
       "      <td>1</td>\n",
       "      <td>31.000000</td>\n",
       "      <td>50</td>\n",
       "      <td>868</td>\n",
       "      <td>942774</td>\n",
       "      <td>19589</td>\n",
       "      <td>True</td>\n",
       "    </tr>\n",
       "    <tr>\n",
       "      <th>868</th>\n",
       "      <td>0</td>\n",
       "      <td>3</td>\n",
       "      <td>29.732233</td>\n",
       "      <td>10</td>\n",
       "      <td>869</td>\n",
       "      <td>498086</td>\n",
       "      <td>79973</td>\n",
       "      <td>True</td>\n",
       "    </tr>\n",
       "  </tbody>\n",
       "</table>\n",
       "</div>"
      ],
      "text/plain": [
       "     Entry  TicketClass        Age  Price  Order  Ticket Number  Bank Balance  \\\n",
       "864      0            2  24.000000     13    865         305015         87301   \n",
       "865      1            2  42.000000     13    866         459167         48146   \n",
       "866      1            2  27.000000     14    867         508948         60741   \n",
       "867      0            1  31.000000     50    868         942774         19589   \n",
       "868      0            3  29.732233     10    869         498086         79973   \n",
       "\n",
       "     Sex_male  \n",
       "864      True  \n",
       "865     False  \n",
       "866     False  \n",
       "867      True  \n",
       "868      True  "
      ]
     },
     "execution_count": 15,
     "metadata": {},
     "output_type": "execute_result"
    }
   ],
   "source": [
    "df.tail()"
   ]
  },
  {
   "cell_type": "code",
   "execution_count": 16,
   "id": "8fd12461",
   "metadata": {},
   "outputs": [],
   "source": [
    "X = df.drop('Entry', axis=1)\n",
    "y = df['Entry']"
   ]
  },
  {
   "cell_type": "code",
   "execution_count": 17,
   "id": "3ad63235",
   "metadata": {},
   "outputs": [],
   "source": [
    "X_train, X_test, y_train, y_test = train_test_split(X, y, test_size=0.2, random_state=1)\n",
    "\n",
    "pca_6 = PCA(n_components=6)\n",
    "\n",
    "X_train_pca_6 = pca_6.fit_transform(X_train)\n",
    "X_test_pca_6 = pca_6.transform(X_test)\n",
    "\n",
    "pca_4 = PCA(n_components=4)\n",
    "X_train_pca_4 = pca_4.fit_transform(X_train)\n",
    "X_test_pca_4 = pca_4.transform(X_test)\n",
    "\n",
    "pca_2 = PCA(n_components=2)\n",
    "X_train_pca_2 = pca_2.fit_transform(X_train)\n",
    "X_test_pca_2 = pca_2.transform(X_test)"
   ]
  },
  {
   "cell_type": "code",
   "execution_count": 18,
   "id": "c5cf391f",
   "metadata": {},
   "outputs": [
    {
     "name": "stdout",
     "output_type": "stream",
     "text": [
      "Results for 2 components:\n",
      "Mean Squared Error: 0.2617640046982349\n",
      "R^2 Score: -0.0520598707346025\n",
      "\n",
      "Results for 4 components:\n",
      "Mean Squared Error: 0.239930031161863\n",
      "R^2 Score: 0.035693399249095425\n",
      "\n",
      "Results for 6 components:\n",
      "Mean Squared Error: 0.2065776676465278\n",
      "R^2 Score: 0.16974041342542479\n",
      "\n"
     ]
    }
   ],
   "source": [
    "model = LinearRegression()\n",
    "\n",
    "pca_list = [2, 4, 6]\n",
    "\n",
    "for n in pca_list:\n",
    "    pca = PCA(n_components=n)\n",
    "    \n",
    "    X_train_pca = pca.fit_transform(X_train)\n",
    "    X_test_pca = pca.transform(X_test)\n",
    "\n",
    "    model.fit(X_train_pca, y_train)\n",
    "\n",
    "    pca_preds = model.predict(X_test_pca)\n",
    "\n",
    "    mse = mean_squared_error(y_test, pca_preds)\n",
    "    r2 = r2_score(y_test, pca_preds)\n",
    "    \n",
    "    print(f\"Results for {n} components:\")\n",
    "    print(f\"Mean Squared Error: {mse}\")\n",
    "    print(f\"R^2 Score: {r2}\\n\")\n"
   ]
  },
  {
   "cell_type": "code",
   "execution_count": 19,
   "id": "fcf32361",
   "metadata": {},
   "outputs": [
    {
     "data": {
      "text/html": [
       "<style>#sk-container-id-1 {color: black;}#sk-container-id-1 pre{padding: 0;}#sk-container-id-1 div.sk-toggleable {background-color: white;}#sk-container-id-1 label.sk-toggleable__label {cursor: pointer;display: block;width: 100%;margin-bottom: 0;padding: 0.3em;box-sizing: border-box;text-align: center;}#sk-container-id-1 label.sk-toggleable__label-arrow:before {content: \"▸\";float: left;margin-right: 0.25em;color: #696969;}#sk-container-id-1 label.sk-toggleable__label-arrow:hover:before {color: black;}#sk-container-id-1 div.sk-estimator:hover label.sk-toggleable__label-arrow:before {color: black;}#sk-container-id-1 div.sk-toggleable__content {max-height: 0;max-width: 0;overflow: hidden;text-align: left;background-color: #f0f8ff;}#sk-container-id-1 div.sk-toggleable__content pre {margin: 0.2em;color: black;border-radius: 0.25em;background-color: #f0f8ff;}#sk-container-id-1 input.sk-toggleable__control:checked~div.sk-toggleable__content {max-height: 200px;max-width: 100%;overflow: auto;}#sk-container-id-1 input.sk-toggleable__control:checked~label.sk-toggleable__label-arrow:before {content: \"▾\";}#sk-container-id-1 div.sk-estimator input.sk-toggleable__control:checked~label.sk-toggleable__label {background-color: #d4ebff;}#sk-container-id-1 div.sk-label input.sk-toggleable__control:checked~label.sk-toggleable__label {background-color: #d4ebff;}#sk-container-id-1 input.sk-hidden--visually {border: 0;clip: rect(1px 1px 1px 1px);clip: rect(1px, 1px, 1px, 1px);height: 1px;margin: -1px;overflow: hidden;padding: 0;position: absolute;width: 1px;}#sk-container-id-1 div.sk-estimator {font-family: monospace;background-color: #f0f8ff;border: 1px dotted black;border-radius: 0.25em;box-sizing: border-box;margin-bottom: 0.5em;}#sk-container-id-1 div.sk-estimator:hover {background-color: #d4ebff;}#sk-container-id-1 div.sk-parallel-item::after {content: \"\";width: 100%;border-bottom: 1px solid gray;flex-grow: 1;}#sk-container-id-1 div.sk-label:hover label.sk-toggleable__label {background-color: #d4ebff;}#sk-container-id-1 div.sk-serial::before {content: \"\";position: absolute;border-left: 1px solid gray;box-sizing: border-box;top: 0;bottom: 0;left: 50%;z-index: 0;}#sk-container-id-1 div.sk-serial {display: flex;flex-direction: column;align-items: center;background-color: white;padding-right: 0.2em;padding-left: 0.2em;position: relative;}#sk-container-id-1 div.sk-item {position: relative;z-index: 1;}#sk-container-id-1 div.sk-parallel {display: flex;align-items: stretch;justify-content: center;background-color: white;position: relative;}#sk-container-id-1 div.sk-item::before, #sk-container-id-1 div.sk-parallel-item::before {content: \"\";position: absolute;border-left: 1px solid gray;box-sizing: border-box;top: 0;bottom: 0;left: 50%;z-index: -1;}#sk-container-id-1 div.sk-parallel-item {display: flex;flex-direction: column;z-index: 1;position: relative;background-color: white;}#sk-container-id-1 div.sk-parallel-item:first-child::after {align-self: flex-end;width: 50%;}#sk-container-id-1 div.sk-parallel-item:last-child::after {align-self: flex-start;width: 50%;}#sk-container-id-1 div.sk-parallel-item:only-child::after {width: 0;}#sk-container-id-1 div.sk-dashed-wrapped {border: 1px dashed gray;margin: 0 0.4em 0.5em 0.4em;box-sizing: border-box;padding-bottom: 0.4em;background-color: white;}#sk-container-id-1 div.sk-label label {font-family: monospace;font-weight: bold;display: inline-block;line-height: 1.2em;}#sk-container-id-1 div.sk-label-container {text-align: center;}#sk-container-id-1 div.sk-container {/* jupyter's `normalize.less` sets `[hidden] { display: none; }` but bootstrap.min.css set `[hidden] { display: none !important; }` so we also need the `!important` here to be able to override the default hidden behavior on the sphinx rendered scikit-learn.org. See: https://github.com/scikit-learn/scikit-learn/issues/21755 */display: inline-block !important;position: relative;}#sk-container-id-1 div.sk-text-repr-fallback {display: none;}</style><div id=\"sk-container-id-1\" class=\"sk-top-container\"><div class=\"sk-text-repr-fallback\"><pre>LinearRegression()</pre><b>In a Jupyter environment, please rerun this cell to show the HTML representation or trust the notebook. <br />On GitHub, the HTML representation is unable to render, please try loading this page with nbviewer.org.</b></div><div class=\"sk-container\" hidden><div class=\"sk-item\"><div class=\"sk-estimator sk-toggleable\"><input class=\"sk-toggleable__control sk-hidden--visually\" id=\"sk-estimator-id-1\" type=\"checkbox\" checked><label for=\"sk-estimator-id-1\" class=\"sk-toggleable__label sk-toggleable__label-arrow\">LinearRegression</label><div class=\"sk-toggleable__content\"><pre>LinearRegression()</pre></div></div></div></div></div>"
      ],
      "text/plain": [
       "LinearRegression()"
      ]
     },
     "execution_count": 19,
     "metadata": {},
     "output_type": "execute_result"
    }
   ],
   "source": [
    "model.fit(X_train, y_train)"
   ]
  },
  {
   "cell_type": "code",
   "execution_count": 20,
   "id": "50d5b90d",
   "metadata": {},
   "outputs": [
    {
     "name": "stdout",
     "output_type": "stream",
     "text": [
      "Intercept: 1.2202473753339675\n",
      "\n",
      "Co-efficients: [-1.62444344e-01 -5.14242572e-03  1.95499826e-04  6.07587412e-05\n",
      " -1.14683665e-07  5.76862102e-07 -5.05695606e-01]\n",
      "\n",
      "\n",
      "Mean Squared Error: 0.2065776676465278\n",
      "In-sample R-square: 0.3836889204026672\n"
     ]
    }
   ],
   "source": [
    "print(f'Intercept: {model.intercept_}\\n')\n",
    "print(f'Co-efficients: {model.coef_}\\n\\n')\n",
    "print(f\"Mean Squared Error: {mse}\")\n",
    "print('In-sample R-square:',model.score(X_train, y_train))"
   ]
  },
  {
   "cell_type": "code",
   "execution_count": 21,
   "id": "beeeb5df",
   "metadata": {},
   "outputs": [],
   "source": [
    "# Feature scaling using StandardScaler\n",
    "scaler = StandardScaler()\n",
    "X_train_scaled = scaler.fit_transform(X_train)\n",
    "X_test_scaled = scaler.transform(X_test)"
   ]
  },
  {
   "cell_type": "code",
   "execution_count": 22,
   "id": "32e9a6a5",
   "metadata": {},
   "outputs": [],
   "source": [
    "# Lasso Regression Model\n",
    "# You can adjust the alpha parameter based on your requirements\n",
    "\n",
    "lasso_model = Lasso(alpha=20)\n",
    "\n",
    "# Fit Lasso model to the scaled training data\n",
    "lasso_model.fit(X_train_scaled, y_train)\n",
    "\n",
    "# Make predictions on the training and test sets\n",
    "y_pred_lasso = lasso_model.predict(X_test_scaled)"
   ]
  },
  {
   "cell_type": "code",
   "execution_count": 23,
   "id": "c9f5b8d9",
   "metadata": {},
   "outputs": [
    {
     "name": "stdout",
     "output_type": "stream",
     "text": [
      "OOS Root Mean Squared Error: 0.5090293191598678\n",
      "OOS R-squared (R2) Score: -0.04139652554277462\n"
     ]
    }
   ],
   "source": [
    "# Evaluate the model\n",
    "mse = mean_squared_error(y_test, y_pred_lasso)\n",
    "r2 = r2_score(y_test, y_pred_lasso)\n",
    "rmse = np.sqrt(mse)\n",
    "\n",
    "print(f'OOS Root Mean Squared Error: {rmse}')\n",
    "print(f'OOS R-squared (R2) Score: {r2}')"
   ]
  },
  {
   "cell_type": "markdown",
   "id": "428b6d86",
   "metadata": {},
   "source": [
    "Comment:  \n",
    "In our PCA analysis, we noticed a improvement in model performance as we increased the number of components from 2 to 4 to 6. The Mean Squared Error (MSE) decreased while the R-squared score increased, indicating that more components helped capture more information, improving accuracy of the model. \n",
    "The LASSO regression has a result of higher Root Mean Squared Error (RMSE) compared to the MSE from the logistic regression, suggesting it may not have performed well. The negative R-squared value for the LASSO model implies that the model does not follow the trend of the data.\n",
    "\n",
    "In comparison, The PCA with 6 componenets performs better than LASSO, it fits the data better. The result also shows that PCA with 6 components has a better predictive performance. "
   ]
  },
  {
   "cell_type": "markdown",
   "id": "58198b86",
   "metadata": {},
   "source": [
    "3.Decision Tree Analysis (25)\n",
    "Tip: You can use Decision tree classifier from sklearn tree module for more information check this linkLinks to an external site.\n",
    "\n",
    "from sklearn import tree\n",
    "model = tree.DecisionTreeClassifier()\n",
    "\n",
    "Split the dataset into training and testing sets and encode the variables if needed.\n",
    "Preprocess the data as necessary (handling missing values, encoding categorical variables, removing unnecessary columns etc.)\n",
    "Explain the steps clearly that you took in preparing the data and developing the model, feel free to remove unnecessary columns.\n",
    "Train the decision tree classifier using the training data.\n",
    "Predict the accuracy of model using test data and explain the results"
   ]
  },
  {
   "cell_type": "code",
   "execution_count": 24,
   "id": "2b154a60",
   "metadata": {},
   "outputs": [],
   "source": [
    "from sklearn import tree\n",
    "\n",
    "model = tree.DecisionTreeClassifier()\n",
    "\n",
    "X_train, X_test, y_train, y_test = train_test_split(X, y, test_size=0.2, random_state=1)"
   ]
  },
  {
   "cell_type": "code",
   "execution_count": 25,
   "id": "90ab5260",
   "metadata": {},
   "outputs": [
    {
     "data": {
      "text/html": [
       "<style>#sk-container-id-2 {color: black;}#sk-container-id-2 pre{padding: 0;}#sk-container-id-2 div.sk-toggleable {background-color: white;}#sk-container-id-2 label.sk-toggleable__label {cursor: pointer;display: block;width: 100%;margin-bottom: 0;padding: 0.3em;box-sizing: border-box;text-align: center;}#sk-container-id-2 label.sk-toggleable__label-arrow:before {content: \"▸\";float: left;margin-right: 0.25em;color: #696969;}#sk-container-id-2 label.sk-toggleable__label-arrow:hover:before {color: black;}#sk-container-id-2 div.sk-estimator:hover label.sk-toggleable__label-arrow:before {color: black;}#sk-container-id-2 div.sk-toggleable__content {max-height: 0;max-width: 0;overflow: hidden;text-align: left;background-color: #f0f8ff;}#sk-container-id-2 div.sk-toggleable__content pre {margin: 0.2em;color: black;border-radius: 0.25em;background-color: #f0f8ff;}#sk-container-id-2 input.sk-toggleable__control:checked~div.sk-toggleable__content {max-height: 200px;max-width: 100%;overflow: auto;}#sk-container-id-2 input.sk-toggleable__control:checked~label.sk-toggleable__label-arrow:before {content: \"▾\";}#sk-container-id-2 div.sk-estimator input.sk-toggleable__control:checked~label.sk-toggleable__label {background-color: #d4ebff;}#sk-container-id-2 div.sk-label input.sk-toggleable__control:checked~label.sk-toggleable__label {background-color: #d4ebff;}#sk-container-id-2 input.sk-hidden--visually {border: 0;clip: rect(1px 1px 1px 1px);clip: rect(1px, 1px, 1px, 1px);height: 1px;margin: -1px;overflow: hidden;padding: 0;position: absolute;width: 1px;}#sk-container-id-2 div.sk-estimator {font-family: monospace;background-color: #f0f8ff;border: 1px dotted black;border-radius: 0.25em;box-sizing: border-box;margin-bottom: 0.5em;}#sk-container-id-2 div.sk-estimator:hover {background-color: #d4ebff;}#sk-container-id-2 div.sk-parallel-item::after {content: \"\";width: 100%;border-bottom: 1px solid gray;flex-grow: 1;}#sk-container-id-2 div.sk-label:hover label.sk-toggleable__label {background-color: #d4ebff;}#sk-container-id-2 div.sk-serial::before {content: \"\";position: absolute;border-left: 1px solid gray;box-sizing: border-box;top: 0;bottom: 0;left: 50%;z-index: 0;}#sk-container-id-2 div.sk-serial {display: flex;flex-direction: column;align-items: center;background-color: white;padding-right: 0.2em;padding-left: 0.2em;position: relative;}#sk-container-id-2 div.sk-item {position: relative;z-index: 1;}#sk-container-id-2 div.sk-parallel {display: flex;align-items: stretch;justify-content: center;background-color: white;position: relative;}#sk-container-id-2 div.sk-item::before, #sk-container-id-2 div.sk-parallel-item::before {content: \"\";position: absolute;border-left: 1px solid gray;box-sizing: border-box;top: 0;bottom: 0;left: 50%;z-index: -1;}#sk-container-id-2 div.sk-parallel-item {display: flex;flex-direction: column;z-index: 1;position: relative;background-color: white;}#sk-container-id-2 div.sk-parallel-item:first-child::after {align-self: flex-end;width: 50%;}#sk-container-id-2 div.sk-parallel-item:last-child::after {align-self: flex-start;width: 50%;}#sk-container-id-2 div.sk-parallel-item:only-child::after {width: 0;}#sk-container-id-2 div.sk-dashed-wrapped {border: 1px dashed gray;margin: 0 0.4em 0.5em 0.4em;box-sizing: border-box;padding-bottom: 0.4em;background-color: white;}#sk-container-id-2 div.sk-label label {font-family: monospace;font-weight: bold;display: inline-block;line-height: 1.2em;}#sk-container-id-2 div.sk-label-container {text-align: center;}#sk-container-id-2 div.sk-container {/* jupyter's `normalize.less` sets `[hidden] { display: none; }` but bootstrap.min.css set `[hidden] { display: none !important; }` so we also need the `!important` here to be able to override the default hidden behavior on the sphinx rendered scikit-learn.org. See: https://github.com/scikit-learn/scikit-learn/issues/21755 */display: inline-block !important;position: relative;}#sk-container-id-2 div.sk-text-repr-fallback {display: none;}</style><div id=\"sk-container-id-2\" class=\"sk-top-container\"><div class=\"sk-text-repr-fallback\"><pre>DecisionTreeClassifier()</pre><b>In a Jupyter environment, please rerun this cell to show the HTML representation or trust the notebook. <br />On GitHub, the HTML representation is unable to render, please try loading this page with nbviewer.org.</b></div><div class=\"sk-container\" hidden><div class=\"sk-item\"><div class=\"sk-estimator sk-toggleable\"><input class=\"sk-toggleable__control sk-hidden--visually\" id=\"sk-estimator-id-2\" type=\"checkbox\" checked><label for=\"sk-estimator-id-2\" class=\"sk-toggleable__label sk-toggleable__label-arrow\">DecisionTreeClassifier</label><div class=\"sk-toggleable__content\"><pre>DecisionTreeClassifier()</pre></div></div></div></div></div>"
      ],
      "text/plain": [
       "DecisionTreeClassifier()"
      ]
     },
     "execution_count": 25,
     "metadata": {},
     "output_type": "execute_result"
    }
   ],
   "source": [
    "model.fit(X_train, y_train)"
   ]
  },
  {
   "cell_type": "code",
   "execution_count": 26,
   "id": "9c401ed7",
   "metadata": {},
   "outputs": [
    {
     "name": "stdout",
     "output_type": "stream",
     "text": [
      "0.7471264367816092\n"
     ]
    }
   ],
   "source": [
    "from sklearn.metrics import accuracy_score\n",
    "\n",
    "y_pred = model.predict(X_test)\n",
    "\n",
    "accuracy = accuracy_score(y_test, y_pred)\n",
    "print(accuracy)"
   ]
  },
  {
   "cell_type": "code",
   "execution_count": 27,
   "id": "8095354b",
   "metadata": {},
   "outputs": [
    {
     "name": "stdout",
     "output_type": "stream",
     "text": [
      "In-sample R-square: 1.0\n"
     ]
    }
   ],
   "source": [
    "print('In-sample R-square:',model.score(X_train, y_train))"
   ]
  },
  {
   "cell_type": "markdown",
   "id": "bc0be57a",
   "metadata": {},
   "source": [
    "The result from deicison tree shows a perfect in sample R-square score of 1.0. It suggests that the model explains all the variance fo the data. \n",
    "The accuracy score came out to be around 0.77586 or 77.586%. It tells us that the model correctly predicted 77.586% cases, which is considered as a good performance. However, the difference between R-square and test accuracy suggests a tendency to overfit. "
   ]
  },
  {
   "cell_type": "markdown",
   "id": "fd1be331",
   "metadata": {},
   "source": [
    "4.K Means Clustering(30)\n",
    "Use the Entry_event database and use the Age and Price columns only (drop all other columns)\n",
    "Perform K means clustering for different values of K.\n",
    "Draw a plot and figure out the appropriate value of K, explain in detail the reason for picking K value and the implications.\n",
    "Create the clusters using the above value of K.\n",
    "Plot a graph to show the different clusters."
   ]
  },
  {
   "cell_type": "code",
   "execution_count": 28,
   "id": "c92e0d2f",
   "metadata": {},
   "outputs": [],
   "source": [
    "df1 = pd.read_csv(event_entry)"
   ]
  },
  {
   "cell_type": "code",
   "execution_count": 29,
   "id": "2467b77a",
   "metadata": {},
   "outputs": [],
   "source": [
    "df1.drop(['Entry', 'TicketClass', 'Sex', 'Order','Name', 'Bank Balance', 'Ticket Number'], axis=1, inplace=True)\n"
   ]
  },
  {
   "cell_type": "code",
   "execution_count": 30,
   "id": "028a1c85",
   "metadata": {},
   "outputs": [],
   "source": [
    "df1['Age'].fillna(df1['Age'].mean(), inplace=True)"
   ]
  },
  {
   "cell_type": "code",
   "execution_count": 31,
   "id": "099b712c",
   "metadata": {},
   "outputs": [
    {
     "data": {
      "text/html": [
       "<div>\n",
       "<style scoped>\n",
       "    .dataframe tbody tr th:only-of-type {\n",
       "        vertical-align: middle;\n",
       "    }\n",
       "\n",
       "    .dataframe tbody tr th {\n",
       "        vertical-align: top;\n",
       "    }\n",
       "\n",
       "    .dataframe thead th {\n",
       "        text-align: right;\n",
       "    }\n",
       "</style>\n",
       "<table border=\"1\" class=\"dataframe\">\n",
       "  <thead>\n",
       "    <tr style=\"text-align: right;\">\n",
       "      <th></th>\n",
       "      <th>Age</th>\n",
       "      <th>Price</th>\n",
       "    </tr>\n",
       "  </thead>\n",
       "  <tbody>\n",
       "    <tr>\n",
       "      <th>0</th>\n",
       "      <td>22.0</td>\n",
       "      <td>7</td>\n",
       "    </tr>\n",
       "    <tr>\n",
       "      <th>1</th>\n",
       "      <td>38.0</td>\n",
       "      <td>71</td>\n",
       "    </tr>\n",
       "    <tr>\n",
       "      <th>2</th>\n",
       "      <td>26.0</td>\n",
       "      <td>8</td>\n",
       "    </tr>\n",
       "    <tr>\n",
       "      <th>3</th>\n",
       "      <td>35.0</td>\n",
       "      <td>53</td>\n",
       "    </tr>\n",
       "    <tr>\n",
       "      <th>4</th>\n",
       "      <td>35.0</td>\n",
       "      <td>8</td>\n",
       "    </tr>\n",
       "  </tbody>\n",
       "</table>\n",
       "</div>"
      ],
      "text/plain": [
       "    Age  Price\n",
       "0  22.0      7\n",
       "1  38.0     71\n",
       "2  26.0      8\n",
       "3  35.0     53\n",
       "4  35.0      8"
      ]
     },
     "execution_count": 31,
     "metadata": {},
     "output_type": "execute_result"
    }
   ],
   "source": [
    "df1.head()"
   ]
  },
  {
   "cell_type": "code",
   "execution_count": 32,
   "id": "3665b875",
   "metadata": {},
   "outputs": [
    {
     "data": {
      "text/plain": [
       "Age      0\n",
       "Price    0\n",
       "dtype: int64"
      ]
     },
     "execution_count": 32,
     "metadata": {},
     "output_type": "execute_result"
    }
   ],
   "source": [
    "df1.isnull().sum()"
   ]
  },
  {
   "cell_type": "code",
   "execution_count": 33,
   "id": "6302e216",
   "metadata": {},
   "outputs": [
    {
     "name": "stderr",
     "output_type": "stream",
     "text": [
      "/Users/richardaliu/anaconda3/lib/python3.11/site-packages/sklearn/cluster/_kmeans.py:1412: FutureWarning: The default value of `n_init` will change from 10 to 'auto' in 1.4. Set the value of `n_init` explicitly to suppress the warning\n",
      "  super()._check_params_vs_input(X, default_n_init=10)\n"
     ]
    }
   ],
   "source": [
    "from sklearn.preprocessing import MinMaxScaler\n",
    "from sklearn.cluster import KMeans\n",
    "\n",
    "# Scale the data\n",
    "ms = MinMaxScaler()\n",
    "scaled_data = ms.fit_transform(df1)\n",
    "scaled_df = pd.DataFrame(scaled_data, columns=df1.columns)  # Ensure columns are correctly assigned\n",
    "\n",
    "# Perform K-Means Clustering\n",
    "kmeans = KMeans(n_clusters=2, random_state=0)\n",
    "kmeans.fit(scaled_df)\n",
    "\n",
    "# You might want to attach the cluster labels to your original/scaled DataFrame to analyze the clusters\n",
    "scaled_df['Cluster'] = kmeans.labels_"
   ]
  },
  {
   "cell_type": "code",
   "execution_count": 34,
   "id": "eaf2e501",
   "metadata": {
    "scrolled": false
   },
   "outputs": [
    {
     "data": {
      "image/png": "[encoded data removed]",
      "text/plain": [
       "<Figure size 640x480 with 1 Axes>"
      ]
     },
     "metadata": {},
     "output_type": "display_data"
    }
   ],
   "source": [
    "cs = []\n",
    "for i in range(1, 11):\n",
    "    kmeans = KMeans(n_clusters = i, init = 'k-means++', max_iter = 300, n_init = 10, random_state = 0)\n",
    "    kmeans.fit(scaled_df)\n",
    "    cs.append(kmeans.inertia_)\n",
    "plt.plot(range(1, 11), cs)\n",
    "plt.title('The Elbow Method')\n",
    "plt.xlabel('Number of clusters')\n",
    "plt.ylabel('CS')\n",
    "plt.show()"
   ]
  },
  {
   "cell_type": "code",
   "execution_count": 35,
   "id": "84d6e9df",
   "metadata": {},
   "outputs": [
    {
     "name": "stderr",
     "output_type": "stream",
     "text": [
      "/Users/richardaliu/anaconda3/lib/python3.11/site-packages/sklearn/cluster/_kmeans.py:1412: FutureWarning: The default value of `n_init` will change from 10 to 'auto' in 1.4. Set the value of `n_init` explicitly to suppress the warning\n",
      "  super()._check_params_vs_input(X, default_n_init=10)\n"
     ]
    }
   ],
   "source": [
    "kmeans = KMeans(n_clusters=2, random_state=0)\n",
    "kmeans.fit(scaled_df)\n",
    "\n",
    "scaled_df['kmeans_cluster'] = kmeans.labels_"
   ]
  },
  {
   "cell_type": "code",
   "execution_count": 36,
   "id": "50ffc290",
   "metadata": {},
   "outputs": [
    {
     "data": {
      "text/plain": [
       "kmeans_cluster\n",
       "0    666\n",
       "1    203\n",
       "Name: count, dtype: int64"
      ]
     },
     "execution_count": 36,
     "metadata": {},
     "output_type": "execute_result"
    }
   ],
   "source": [
    "scaled_df['kmeans_cluster'].value_counts()"
   ]
  },
  {
   "cell_type": "code",
   "execution_count": 37,
   "id": "106df894",
   "metadata": {},
   "outputs": [
    {
     "name": "stderr",
     "output_type": "stream",
     "text": [
      "/Users/richardaliu/anaconda3/lib/python3.11/site-packages/seaborn/axisgrid.py:118: UserWarning: The figure layout has changed to tight\n",
      "  self._figure.tight_layout(*args, **kwargs)\n"
     ]
    },
    {
     "data": {
      "image/png": "[encoded data removed]",
      "text/plain": [
       "<Figure size 560.361x500 with 5 Axes>"
      ]
     },
     "metadata": {},
     "output_type": "display_data"
    }
   ],
   "source": [
    "import seaborn as sns\n",
    "import matplotlib.pyplot as plt\n",
    "\n",
    "\n",
    "scaled_df['kmeans_cluster'] = scaled_df['kmeans_cluster'].astype('category')\n",
    "\n",
    "# Create the pairplot\n",
    "sns.pairplot(scaled_df, hue='Cluster', palette='viridis', corner=True)  # `corner=True` to plot only the lower triangle\n",
    "plt.show()"
   ]
  },
  {
   "cell_type": "code",
   "execution_count": 44,
   "id": "8514e86e",
   "metadata": {},
   "outputs": [
    {
     "data": {
      "text/plain": [
       "0.5145816707136815"
      ]
     },
     "execution_count": 44,
     "metadata": {},
     "output_type": "execute_result"
    }
   ],
   "source": [
    "from sklearn.metrics import silhouette_score\n",
    "\n",
    "silhouette_score(scaled_df.iloc[:,:2], kmeans.labels_)"
   ]
  },
  {
   "cell_type": "markdown",
   "id": "ee715f37",
   "metadata": {},
   "source": [
    "Comment: \n",
    "By using the Elbow Method, we figured out the K value or the optimal number of cluster to be 2. 2 is the point when the inertia stops decreasing as rapidy, which makes the trend to look like a elbow. A smaller K means larger cluster, which is more generalized. The result indicates that the price or spending habit might not be relative to customers' age. Pricing strategy may not differentiate across age groups. "
   ]
  }
 ],
 "metadata": {
  "kernelspec": {
   "display_name": "Python 3 (ipykernel)",
   "language": "python",
   "name": "python3"
  },
  "language_info": {
   "codemirror_mode": {
    "name": "ipython",
    "version": 3
   },
   "file_extension": ".py",
   "mimetype": "text/x-python",
   "name": "python",
   "nbconvert_exporter": "python",
   "pygments_lexer": "ipython3",
   "version": "3.11.5"
  }
 },
 "nbformat": 4,
 "nbformat_minor": 5
}
